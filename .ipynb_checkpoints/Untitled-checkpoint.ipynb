{
 "cells": [
  {
   "cell_type": "code",
   "execution_count": 85,
   "metadata": {},
   "outputs": [],
   "source": [
    "import os\n",
    "import sys\n",
    "import numpy as np\n",
    "from numpy import genfromtxt\n",
    "\n",
    "#hyperParameters\n",
    "C = 1.0\n",
    "T = 100000\n",
    "k = 100\n",
    "\n",
    "\n",
    "\n",
    "def read_data(input_file):\n",
    "\tX = genfromtxt(input_file,delimiter = ',') # list of training example vectors\n",
    "\tY = X[:,len(X[0])-1]\n",
    "\tY = Y[np.newaxis]\n",
    "\tY = np.transpose(Y)\n",
    "\tX = np.delete(X,len(X[0])-1,1)\n",
    "\tx0 = np.ones((len(X),1))\n",
    "\tX = np.hstack((x0,X))\n",
    "\treturn X,Y"
   ]
  },
  {
   "cell_type": "code",
   "execution_count": 3,
   "metadata": {},
   "outputs": [],
   "source": [
    "X,Y = read_data('data/train.csv')"
   ]
  },
  {
   "cell_type": "code",
   "execution_count": 11,
   "metadata": {},
   "outputs": [
    {
     "name": "stdout",
     "output_type": "stream",
     "text": [
      "20000\n"
     ]
    }
   ],
   "source": [
    "print len(X)"
   ]
  },
  {
   "cell_type": "code",
   "execution_count": 20,
   "metadata": {},
   "outputs": [
    {
     "name": "stdout",
     "output_type": "stream",
     "text": [
      "7.0\n"
     ]
    }
   ],
   "source": [
    "print Y[0][0]"
   ]
  },
  {
   "cell_type": "code",
   "execution_count": 89,
   "metadata": {},
   "outputs": [],
   "source": [
    "def pegasos(X_part,Y_part):\n",
    "\tglobal k\n",
    "\tm = len(X_part)\n",
    "\tk = min(m,k)\n",
    "\tw = np.zeros((len(X_part[0]),1))\n",
    "\tfor t in range(T):\n",
    "\t\tk_array = np.random.choice(m,k)\n",
    "\t\tstep_neta = C * (1.0/(t+1))\n",
    "\t\tupdate_amount = np.zeros((len(X_part[0]),1))\n",
    "\t\tfor i in range(k):\n",
    "\t\t\tX_i = X_part[k_array[i]]\n",
    "\t\t\tX_w = np.matmul(X_i,w)\n",
    "\t\t\ty_X_w = Y_part[k_array[i]] * X_w\n",
    "\t\t\tif y_X_w < 1:\n",
    "\t\t\t\tX_i = X_i[np.newaxis]\n",
    "\t\t\t\tupdate_amount += Y_part[k_array[i]] * np.transpose(X_i)\n",
    "\t\tw = (1 - step_neta*(1/C)) * w + (step_neta/k) * update_amount \n",
    "\treturn w\t"
   ]
  },
  {
   "cell_type": "code",
   "execution_count": 92,
   "metadata": {},
   "outputs": [],
   "source": [
    "def learn_parameters():\n",
    "\tm = len(X)\n",
    "\tlabels_array = np.unique(Y)\n",
    "\tlabels = len(labels_array)\n",
    "\tclassifier = np.zeros((labels,labels,len(X[0]),1))\n",
    "\tfor i in range(labels):\n",
    "\t\tfor j in range(i+1,labels):\n",
    "\t\t\tX_part = []\n",
    "\t\t\tY_part = []\n",
    "\t\t\tfor l in range(m):\n",
    "\t\t\t\tif Y[l][0]==i or Y[l][0]==j:\n",
    "\t\t\t\t\tX_part.append(X[l])\n",
    "\t\t\t\t\tif Y[l][0]==i:\n",
    "\t\t\t\t\t\tY_part.append(1)\n",
    "\t\t\t\t\telse:\n",
    "\t\t\t\t\t\tY_part.append(-1)\n",
    "\t\t\tw = pegasos(X_part,Y_part)\n",
    "\t\t\tclassifier[i][j] = w\n",
    "\t\t\tclassifier[j][i] = w\n",
    "\treturn classifier"
   ]
  },
  {
   "cell_type": "code",
   "execution_count": 93,
   "metadata": {},
   "outputs": [],
   "source": [
    "classifier = learn_parameters()"
   ]
  },
  {
   "cell_type": "code",
   "execution_count": 98,
   "metadata": {},
   "outputs": [],
   "source": [
    "def predict_label(test_X):\n",
    "# \ttest_X = np.append([1],test_X)\n",
    "\tlabels_array = np.unique(Y)\n",
    "\tlabels = len(labels_array)\n",
    "\twins = np.zeros((labels))\n",
    "\tfor i in range(labels):\n",
    "\t\tfor j in range(i+1,labels):\n",
    "\t\t\tdist = np.matmul(test_X,classifier[i][j])\n",
    "\t\t\tif dist > 0:\n",
    "\t\t\t\twins[i] += 1\n",
    "\t\t\telif dist < 0:\n",
    "\t\t\t\twins[j] += 1\n",
    "\tlabel = -1\n",
    "\tmaxx = -1\n",
    "\tfor i in range(labels):\n",
    "\t\tif wins[i] >= maxx:\n",
    "\t\t\tmaxx = wins[i]\n",
    "\t\t\tlabel = i\n",
    "\treturn label"
   ]
  },
  {
   "cell_type": "code",
   "execution_count": 106,
   "metadata": {},
   "outputs": [],
   "source": [
    "def accuracy(test_data,test_labels):\n",
    "\tcount = 0\n",
    "\tfor i in range(len(test_data)):\n",
    "\t\tpredicted_label = predict_label(test_data[i])\n",
    "\t\texpected_label = test_labels[i][0]\n",
    "\t\tif predicted_label == expected_label:\n",
    "\t\t\tcount += 1\n",
    "\treturn (1.0*count/len(test_data))"
   ]
  },
  {
   "cell_type": "code",
   "execution_count": 107,
   "metadata": {},
   "outputs": [],
   "source": [
    "train_accuracy = accuracy(X,Y)"
   ]
  },
  {
   "cell_type": "code",
   "execution_count": 108,
   "metadata": {},
   "outputs": [
    {
     "name": "stdout",
     "output_type": "stream",
     "text": [
      "0.9911\n"
     ]
    }
   ],
   "source": [
    "print train_accuracy"
   ]
  },
  {
   "cell_type": "code",
   "execution_count": null,
   "metadata": {},
   "outputs": [],
   "source": []
  }
 ],
 "metadata": {
  "kernelspec": {
   "display_name": "Python 2",
   "language": "python",
   "name": "python2"
  },
  "language_info": {
   "codemirror_mode": {
    "name": "ipython",
    "version": 2
   },
   "file_extension": ".py",
   "mimetype": "text/x-python",
   "name": "python",
   "nbconvert_exporter": "python",
   "pygments_lexer": "ipython2",
   "version": "2.7.12"
  }
 },
 "nbformat": 4,
 "nbformat_minor": 2
}
